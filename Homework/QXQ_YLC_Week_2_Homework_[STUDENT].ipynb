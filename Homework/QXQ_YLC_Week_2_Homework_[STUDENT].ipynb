{
  "cells": [
    {
      "cell_type": "markdown",
      "metadata": {
        "id": "K3JVwUgVElwe"
      },
      "source": [
        "# **Homework 2: Python Basics I**\n",
        "---\n",
        "\n",
        "### **Description**\n",
        "In this homework, you will continue to hone your understanding of python basics including objects, types, arithmetic operators, and variables. **NOTE: You will need to submit answers to several questions throughout the notebook on Canvas.**\n",
        "\n",
        "<br>\n",
        "\n",
        "### **Structure**\n",
        "**Part 1**: [Getting Familiar with Google Colab](#p1)\n",
        "\n",
        "**Part 2**: [Objects and Types](#p2)\n",
        "\n",
        "**Part 3**: [Arithmetic and Variables](#p3)\n",
        "\n",
        "\n",
        "<br>\n",
        "\n",
        "### **Learning Objectives**\n",
        "By the end of this homework, we will:\n",
        "* Recognize the definition/framework of objects, methods, attributes.\n",
        "* Recognize the main data types and how to modify them with basic arithmetic operators (+, -, /, *).\n",
        "* Recognize that variables are a way to store objects.\n",
        "\n",
        "\n",
        "<br>\n",
        "\n",
        "### **Resources**\n",
        "* [Python Basics Cheat Sheet](https://docs.google.com/document/d/1uLao-xKh3tYIiCYyiqf7oas4qTlr5XYKQ0QpzX_Xzag/edit?usp=sharing)"
      ]
    },
    {
      "cell_type": "markdown",
      "metadata": {
        "id": "MdB9l1eDB6mZ"
      },
      "source": [
        "<a name=\"p1\"></a>\n",
        "\n",
        "---\n",
        "## **Part 1: Reading and Modifying Code**\n",
        "---\n",
        "\n",
        "In this section, you will hone your ability to read and modify code given to you."
      ]
    },
    {
      "cell_type": "markdown",
      "metadata": {
        "id": "xwi8nagW-1ad"
      },
      "source": [
        "#### **Problem #1.1**\n",
        "\n",
        "Modify the code to calculate the area of a rectangle whose length is 10 and width is 5."
      ]
    },
    {
      "cell_type": "code",
      "execution_count": 1,
      "metadata": {
        "colab": {
          "base_uri": "https://localhost:8080/"
        },
        "id": "ntGXhAFY9Yd-",
        "outputId": "d80b25f1-1206-4c8f-9e29-05f107a79ba4"
      },
      "outputs": [
        {
          "data": {
            "text/plain": [
              "20"
            ]
          },
          "execution_count": 1,
          "metadata": {},
          "output_type": "execute_result"
        }
      ],
      "source": [
        "length = 5\n",
        "width = 4\n",
        "area = length*width\n",
        "area"
      ]
    },
    {
      "cell_type": "markdown",
      "metadata": {
        "id": "zLYs9izPCfMM"
      },
      "source": [
        "#### **Problem #1.2**\n",
        "\n",
        "Modify the code to calculate the `cost_per_person` if the `total_cost` is 500."
      ]
    },
    {
      "cell_type": "code",
      "execution_count": 3,
      "metadata": {
        "id": "QfgQPydj9gIl"
      },
      "outputs": [
        {
          "data": {
            "text/plain": [
              "0"
            ]
          },
          "execution_count": 3,
          "metadata": {},
          "output_type": "execute_result"
        }
      ],
      "source": [
        "cost_per_person = 0\n",
        "total_cost = 100\n",
        "number_of_people = 5\n",
        "if total_cost == 500:\n",
        "    cost_per_person = total_cost/number_of_people\n",
        "cost_per_person"
      ]
    },
    {
      "cell_type": "markdown",
      "metadata": {
        "id": "9FS3rfX9CrNU"
      },
      "source": [
        "#### **Problem #1.3**\n",
        "\n",
        "Modify the code shown below to calculate the final exam grade needed when:\n",
        "\n",
        "| Exam         \t| Grade \t| Weight \t|\n",
        "|--------------\t|-------\t|--------\t|\n",
        "| Exam 1:      \t| 75    \t| 0.2    \t|\n",
        "| Exam 2:      \t| 82    \t| 0.2    \t|\n",
        "| Final Exam:  \t| ?     \t| 0.6    \t|\n",
        "| Final Grade: \t| 85    \t|        \t|"
      ]
    },
    {
      "cell_type": "code",
      "execution_count": 4,
      "metadata": {
        "colab": {
          "base_uri": "https://localhost:8080/"
        },
        "id": "_waPzkfG9sK4",
        "outputId": "0043a437-a0a4-4cf8-c5d5-5497e3caa97a"
      },
      "outputs": [
        {
          "data": {
            "text/plain": [
              "89.33333333333333"
            ]
          },
          "execution_count": 4,
          "metadata": {},
          "output_type": "execute_result"
        }
      ],
      "source": [
        "exam_1_grade = 75\n",
        "exam_1_weight = 0.2\n",
        "\n",
        "exam_2_grade = 82\n",
        "exam_2_weight = 0.2\n",
        "\n",
        "final_exam_weight = 0.6\n",
        "wanted_final_grade = 85\n",
        "\n",
        "required_grade_on_final = (wanted_final_grade- exam_1_grade*exam_1_weight - exam_2_grade*exam_2_weight)/final_exam_weight\n",
        "required_grade_on_final"
      ]
    },
    {
      "cell_type": "markdown",
      "metadata": {
        "id": "DP9_oKpi6T9g"
      },
      "source": [
        "<a name=\"p2\"></a>\n",
        "\n",
        "---\n",
        "## **Part 2: Objects and Types**\n",
        "---\n",
        "\n",
        "In this section, you will hone your understanding of the concepts of objects and types."
      ]
    },
    {
      "cell_type": "markdown",
      "metadata": {
        "id": "wo7SOJPU7AXD"
      },
      "source": [
        "#### **Problem #2.1**\n",
        "\n",
        "Which of the following objects are floats?\n",
        "\n",
        "a.\n",
        "```python\n",
        "5.2\n",
        "```\n",
        "\n",
        "b.\n",
        "```python\n",
        "\"this is an object\"\n",
        "```\n",
        "\n",
        "c.\n",
        "```python\n",
        "\"5.2\"\n",
        "```\n",
        "\n",
        "d.\n",
        "```python\n",
        "52\n",
        "```\n",
        "\n",
        "e.\n",
        "```python\n",
        "52 / 10\n",
        "```"
      ]
    },
    {
      "cell_type": "markdown",
      "metadata": {},
      "source": [
        "======================================================================================"
      ]
    },
    {
      "cell_type": "markdown",
      "metadata": {},
      "source": [
        "Answer: {a, e} are floats"
      ]
    },
    {
      "cell_type": "markdown",
      "metadata": {},
      "source": [
        "======================================================================================"
      ]
    },
    {
      "cell_type": "markdown",
      "metadata": {
        "id": "8E_hjAwnzJIJ"
      },
      "source": [
        "#### **Problem #2.2**\n",
        "\n",
        "Label the following data types.\n",
        "\n",
        "a.\n",
        "```python\n",
        "2\n",
        "```\n",
        "\n",
        "b.\n",
        "```python\n",
        "8.9\n",
        "```\n",
        "\n",
        "c.\n",
        "```python\n",
        "\"Quantum Computing rocks!\"\n",
        "```\n",
        "\n",
        "d.\n",
        "```python\n",
        "[\"string\"]\n",
        "```\n",
        "\n",
        "e.\n",
        "```python\n",
        "5.0\n",
        "```\n",
        "\n",
        "\n"
      ]
    },
    {
      "cell_type": "markdown",
      "metadata": {},
      "source": [
        "======================================================================================"
      ]
    },
    {
      "cell_type": "markdown",
      "metadata": {},
      "source": [
        "a. Int  \n",
        "b. float    \n",
        "c. string   \n",
        "d. list     \n",
        "e. float    "
      ]
    },
    {
      "cell_type": "markdown",
      "metadata": {},
      "source": [
        "======================================================================================"
      ]
    },
    {
      "cell_type": "markdown",
      "metadata": {
        "id": "TzwueTwDAT_e"
      },
      "source": [
        "#### **Problem #2.3**\n",
        "\n",
        "Which of the following are objects?\n",
        "\n",
        "a.\n",
        "```python\n",
        "\"28\"\n",
        "```\n",
        "\n",
        "b.\n",
        "```python\n",
        "28.5\n",
        "```\n",
        "\n",
        "c.\n",
        "```python\n",
        "num_eggs = 2 * 3\n",
        "```\n",
        "\n",
        "d.\n",
        "```python\n",
        "True\n",
        "```\n",
        "\n",
        "e.\n",
        "```python\n",
        "is_cheese = False\n",
        "```"
      ]
    },
    {
      "cell_type": "markdown",
      "metadata": {},
      "source": [
        "======================================================================================"
      ]
    },
    {
      "cell_type": "markdown",
      "metadata": {},
      "source": [
        "All of the items {a, b, c, d, and e} are objects"
      ]
    },
    {
      "cell_type": "markdown",
      "metadata": {},
      "source": [
        "======================================================================================"
      ]
    },
    {
      "cell_type": "markdown",
      "metadata": {
        "id": "tmEby-pV9ctp"
      },
      "source": [
        "#### **Problem #2.4**\n",
        "\n",
        "As discussed in lab, objects consist of two parts: attributes (data) and methods (behaviors). Given that the syntax for both is different, which of the following are attributes?\n",
        "\n",
        "a.\n",
        "```python\n",
        "phone.call(\"Bob\")\n",
        "```\n",
        "\n",
        "b.\n",
        "```python\n",
        "phone.time\n",
        "```\n",
        "\n",
        "c.\n",
        "```python\n",
        "phone.change_volume(50)\n",
        "```\n",
        "\n",
        "d.\n",
        "```python\n",
        "students.names_list\n",
        "```\n",
        "\n",
        "e.\n",
        "```python\n",
        "students.sort_by_age()\n",
        "```"
      ]
    },
    {
      "cell_type": "markdown",
      "metadata": {},
      "source": [
        "======================================================================================"
      ]
    },
    {
      "cell_type": "markdown",
      "metadata": {},
      "source": [
        "Answer: {b, d} are floats"
      ]
    },
    {
      "cell_type": "markdown",
      "metadata": {},
      "source": [
        "======================================================================================"
      ]
    },
    {
      "cell_type": "markdown",
      "metadata": {
        "id": "T47L6IBhCKsx"
      },
      "source": [
        "<a name=\"p3\"></a>\n",
        "\n",
        "---\n",
        "## **Part 3: Arithmetic and Variables**\n",
        "---\n",
        "\n",
        "In this section, you will hone your ability to calculate operations with numerical types and store a range of types in variables."
      ]
    },
    {
      "cell_type": "markdown",
      "metadata": {
        "id": "XQ3zpD9G_rb3"
      },
      "source": [
        "#### **Problem #3.1**\n",
        "\n",
        "Calculate 50 multiplied by 4.5."
      ]
    },
    {
      "cell_type": "code",
      "execution_count": 5,
      "metadata": {
        "id": "czESqJz_AKQP"
      },
      "outputs": [
        {
          "data": {
            "text/plain": [
              "225.0"
            ]
          },
          "execution_count": 5,
          "metadata": {},
          "output_type": "execute_result"
        }
      ],
      "source": [
        "number = 50*4.5\n",
        "number"
      ]
    },
    {
      "cell_type": "markdown",
      "metadata": {
        "id": "Z-3vJncgC8OU"
      },
      "source": [
        "#### **Problem #3.2**\n",
        "\n",
        "Calculate 50 multiplied by 4.5 plus 10."
      ]
    },
    {
      "cell_type": "code",
      "execution_count": 7,
      "metadata": {
        "id": "YaJTKsdZC8OV"
      },
      "outputs": [
        {
          "data": {
            "text/plain": [
              "235.0"
            ]
          },
          "execution_count": 7,
          "metadata": {},
          "output_type": "execute_result"
        }
      ],
      "source": [
        "number = 50*4.5+10\n",
        "number"
      ]
    },
    {
      "cell_type": "markdown",
      "metadata": {
        "id": "QinoVuPOAdBg"
      },
      "source": [
        "#### **Problem #3.3**\n",
        "\n",
        "Calculate 4 to the 8th power plus 10."
      ]
    },
    {
      "cell_type": "code",
      "execution_count": 9,
      "metadata": {
        "id": "arINPqrTAh5P"
      },
      "outputs": [
        {
          "data": {
            "text/plain": [
              "65546"
            ]
          },
          "execution_count": 9,
          "metadata": {},
          "output_type": "execute_result"
        }
      ],
      "source": [
        "number = 4**8 +10\n",
        "number"
      ]
    },
    {
      "cell_type": "markdown",
      "metadata": {
        "id": "oMCHyhfet4wi"
      },
      "source": [
        "#### **Problem #3.4**\n",
        "\n",
        "Create a variable that stores the name of the country you live in. Output that variable."
      ]
    },
    {
      "cell_type": "code",
      "execution_count": 11,
      "metadata": {
        "id": "x-OTbMmiuMU1"
      },
      "outputs": [
        {
          "data": {
            "text/plain": [
              "'Egypt'"
            ]
          },
          "execution_count": 11,
          "metadata": {},
          "output_type": "execute_result"
        }
      ],
      "source": [
        "my_country = \"Egypt\"\n",
        "my_country"
      ]
    },
    {
      "cell_type": "markdown",
      "metadata": {
        "id": "xXoYLnwgutEq"
      },
      "source": [
        "#### **Problem #3.5**\n",
        "\n",
        "Create a variable named `height_cm` and set it equal to your height in centimeters. Output `height_cm`.\n",
        "\n",
        "<br>\n",
        "\n",
        "**NOTE**: 1 inch = 2.54 cm."
      ]
    },
    {
      "cell_type": "code",
      "execution_count": 12,
      "metadata": {
        "id": "GYEksLk4LmLC"
      },
      "outputs": [
        {
          "data": {
            "text/plain": [
              "170"
            ]
          },
          "execution_count": 12,
          "metadata": {},
          "output_type": "execute_result"
        }
      ],
      "source": [
        "height_cm = 170\n",
        "height_cm"
      ]
    },
    {
      "cell_type": "markdown",
      "metadata": {
        "id": "y-uOGaf0LTqK"
      },
      "source": [
        "#### **Problem #3.6**\n",
        "\n",
        "Create a variable named `height_m` and set it equal to your height in m. Use the `height_cm` variable from the previous problem. Output `height_m`.\n",
        "\n",
        "<br>\n",
        "\n",
        "**NOTE**: 1 m = 100 cm."
      ]
    },
    {
      "cell_type": "code",
      "execution_count": 13,
      "metadata": {
        "id": "kORv2WhnMtIJ"
      },
      "outputs": [
        {
          "data": {
            "text/plain": [
              "1.7"
            ]
          },
          "execution_count": 13,
          "metadata": {},
          "output_type": "execute_result"
        }
      ],
      "source": [
        "height_m = height_cm /100\n",
        "height_m"
      ]
    },
    {
      "cell_type": "markdown",
      "metadata": {
        "id": "FeID_zqavKiq"
      },
      "source": [
        "#### **Problem #3.7**\n",
        "\n",
        "Which of the following variables names would not run in python?"
      ]
    },
    {
      "cell_type": "markdown",
      "metadata": {
        "id": "BLgXAY79xwqs"
      },
      "source": [
        "a.\n",
        "```python\n",
        "1var = 10\n",
        "```\n",
        "\n",
        "b.\n",
        "```python\n",
        "2var = 20\n",
        "```\n",
        "\n",
        "c.\n",
        "```python\n",
        "3_var = 30\n",
        "```\n",
        "\n",
        "d.\n",
        "```python\n",
        "Var4 = 40\n",
        "```\n",
        "\n",
        "e.\n",
        "```python\n",
        "VAR5 = 50\n",
        "```\n",
        "\n",
        "f.\n",
        "```python\n",
        "var_6 = 60\n",
        "```\n",
        "\n",
        "g.\n",
        "```python\n",
        "month&year = \"July 2022\"\n",
        "```\n",
        "\n",
        "h.\n",
        "```python\n",
        "hello = \"hello\"\n",
        "```\n",
        "\n",
        "i.\n",
        "```python\n",
        "for = \"for\"\n",
        "```"
      ]
    },
    {
      "cell_type": "markdown",
      "metadata": {},
      "source": [
        "========================================================================="
      ]
    },
    {
      "cell_type": "markdown",
      "metadata": {},
      "source": [
        "Answer: {a, b, c, g, i} are floats"
      ]
    },
    {
      "cell_type": "markdown",
      "metadata": {},
      "source": [
        "===================================================================="
      ]
    },
    {
      "cell_type": "markdown",
      "metadata": {
        "id": "-bnV4zY2yMs8"
      },
      "source": [
        "#### **Problem #3.8**\n",
        "\n",
        "Create a variable `name` and assign it to your name. Output `name`. Then, reassign `name` to a friend's name. Output again."
      ]
    },
    {
      "cell_type": "code",
      "execution_count": 14,
      "metadata": {
        "id": "xLdAevEYyREb"
      },
      "outputs": [
        {
          "data": {
            "text/plain": [
              "'Yahya Ashraf Mohamed'"
            ]
          },
          "execution_count": 14,
          "metadata": {},
          "output_type": "execute_result"
        }
      ],
      "source": [
        "name = \"Yahya Ashraf Mohamed\"\n",
        "name"
      ]
    },
    {
      "cell_type": "code",
      "execution_count": 15,
      "metadata": {
        "id": "sZwWBkHhFCc0"
      },
      "outputs": [
        {
          "data": {
            "text/plain": [
              "'Omar Morgan'"
            ]
          },
          "execution_count": 15,
          "metadata": {},
          "output_type": "execute_result"
        }
      ],
      "source": [
        "name = \"Omar Morgan\"\n",
        "name"
      ]
    },
    {
      "cell_type": "markdown",
      "metadata": {
        "id": "LMrbwMSsoWtN"
      },
      "source": [
        "# End of notebook\n",
        "---\n",
        "© 2023 The Coding School, All rights reserved"
      ]
    }
  ],
  "metadata": {
    "colab": {
      "provenance": []
    },
    "kernelspec": {
      "display_name": "Python 3",
      "name": "python3"
    },
    "language_info": {
      "codemirror_mode": {
        "name": "ipython",
        "version": 3
      },
      "file_extension": ".py",
      "mimetype": "text/x-python",
      "name": "python",
      "nbconvert_exporter": "python",
      "pygments_lexer": "ipython3",
      "version": "3.11.5"
    }
  },
  "nbformat": 4,
  "nbformat_minor": 0
}
