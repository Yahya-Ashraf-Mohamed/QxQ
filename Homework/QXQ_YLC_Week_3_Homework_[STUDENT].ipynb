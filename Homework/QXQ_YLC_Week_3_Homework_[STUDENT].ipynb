{
  "cells": [
    {
      "cell_type": "markdown",
      "metadata": {
        "colab_type": "text",
        "id": "view-in-github"
      },
      "source": [
        "<a href=\"https://colab.research.google.com/github/Yahya-Ashraf-Mohamed/QxQ/blob/main/QXQ_YLC_Week_3_Homework_%5BSTUDENT%5D.ipynb\" target=\"_parent\"><img src=\"https://colab.research.google.com/assets/colab-badge.svg\" alt=\"Open In Colab\"/></a>"
      ]
    },
    {
      "cell_type": "markdown",
      "metadata": {
        "id": "F7i_-gofxiqE"
      },
      "source": [
        "# **Homework 3: Introduction to Objects and Debugging**\n",
        "---\n",
        "\n",
        "### **Description**\n",
        "In this homework assignment, you will learn how to work with objects in Python, how to interpret and correct coding errors, and how to search for and navigate documentation.\n",
        "\n",
        "<br>\n",
        "\n",
        "### **Homework Structure**\n",
        "**Part 1**: [Objects, Methods, and Attributes](#p1)\n",
        "\n",
        "**Part 2**: [Debugging](#p2)\n",
        "\n",
        "**Part 3**: [Coding Challenges [OPTIONAL]](#p3)\n",
        "\n",
        "<br>\n",
        "\n",
        "### **Resources**\n",
        "* [Python Basics Cheat Sheet](https://docs.google.com/document/d/1W8xeN-2wtyzM6sz33mGewNdBQ2sdE8dP8UJFhHG_4T4/)\n",
        "\n",
        "<br>\n",
        "\n",
        "### **Learning Objectives**\n",
        "By the end of this homework assignment, you will:\n",
        "* Understand how to interact with objects using methods and attributes.\n",
        "* Improve your debugging skills by correcting common coding errors.\n",
        "* Understand how to search for documentation in various libraries.\n",
        "\n",
        "<br>\n",
        "\n",
        "**Before starting, run the code below to import all necessary functions and libraries.**"
      ]
    },
    {
      "cell_type": "code",
      "execution_count": 63,
      "metadata": {
        "cellView": "form",
        "colab": {
          "base_uri": "https://localhost:8080/"
        },
        "id": "YAvvLhRIoqYp",
        "outputId": "abbfdc99-f242-4541-9a3d-3306361184a2"
      },
      "outputs": [
        {
          "name": "stdout",
          "output_type": "stream",
          "text": [
            "Libraries imported successfully!\n"
          ]
        }
      ],
      "source": [
        "# @title\n",
        "!pip install qiskit --quiet\n",
        "import warnings\n",
        "import sympy\n",
        "import numpy\n",
        "import matplotlib\n",
        "import time\n",
        "import math\n",
        "from matplotlib import pyplot\n",
        "from qiskit import QuantumCircuit\n",
        "warnings.filterwarnings(\"ignore\")\n",
        "\n",
        "class baby():\n",
        "  def __init__(self,age=0, mood=\"crying\", hunger=\"hungry\"):\n",
        "    self.age = age\n",
        "    self.mood = mood\n",
        "    self.hunger = hunger\n",
        "  def feed(self):\n",
        "    self.hunger = \"full\"\n",
        "  def play(self):\n",
        "    self.mood = \"happy\"\n",
        "\n",
        "def calculate_area(length, width):\n",
        "  area = length * width\n",
        "  return area\n",
        "\n",
        "class plant():\n",
        "  def __init__(self):\n",
        "    self.planted = 0\n",
        "    self.day_of_last_growth = 0\n",
        "    self.day = 0\n",
        "    self.water = 0\n",
        "    self.light = 0\n",
        "    self.health = 10\n",
        "    self.stage = 0\n",
        "    self.perfect_light = numpy.random.choice([1,2,3,4,5,6,7,8,9,10])\n",
        "    self.perfect_water = numpy.random.choice([1,2,3,4,5,6,7,8,9,10])\n",
        "  def water_plant(self,amount):\n",
        "    if amount > 0:\n",
        "      print(\"You watered your plant.\")\n",
        "      self.water += round(amount)\n",
        "    elif amount < 0:\n",
        "      raise ValueError(\"You can't remove water from your plant! You will have to wait a bit for it to dry out.\")\n",
        "    else:\n",
        "      print(\"You decide to not water your plant.\")\n",
        "  def set_light(self,level):\n",
        "    if level <0:\n",
        "      raise ValueError(\"You can't set the light level to negative values.\")\n",
        "    elif level > 10:\n",
        "      raise ValueError(\"Your light is not that strong\")\n",
        "    else:\n",
        "      self.light = round(level)\n",
        "      print(\"You set the light to level \" + str(self.light))\n",
        "\n",
        "  def check_health(self):\n",
        "    print(\"Your plant's health is a \" + str(self.health)+ \"/\" + str(10+(5*self.stage))+\".\")\n",
        "    print(\"If you had to rate the wetness of the soil, it would be a \" + str(self.water)+ \"/10.\")\n",
        "    print(\"Your light is turned up to \" + str(self.light)+ \".\")\n",
        "    if self.stage == 10:\n",
        "      print(\"Your plant is full grown.\")\n",
        "  def wait(self,num_days):\n",
        "    for i in range(num_days):\n",
        "      self.day += 1\n",
        "      print('Day ' + str(self.day))\n",
        "      if self.perfect_light > self.light:\n",
        "        print(\"Your plant needs more light\")\n",
        "        self.health += -1*abs(self.perfect_light- self.light)/10\n",
        "      elif self.perfect_light < self.light:\n",
        "        print(\"Your plant needs less light\")\n",
        "        self.health += -1*abs(self.perfect_light- self.light)/10\n",
        "      else:\n",
        "        print(\"Your plant looks happy with the light it has.\")\n",
        "      if self.perfect_water > self.water:\n",
        "        print(\"Your plant needs more water\")\n",
        "        self.health += -1*abs(self.perfect_water- self.water)/10\n",
        "      elif self.perfect_water < self.water:\n",
        "        print(\"Your plant needs less water\")\n",
        "        self.health += -1*abs(self.perfect_water- self.water)/10\n",
        "      else:\n",
        "        print(\"Your plant looks happy with the water it had.\")\n",
        "      if self.perfect_light == self.light and self.perfect_water == self.water:\n",
        "        self.health = (self.health + 10+(5*self.stage))/2\n",
        "        if self.day- self.day_of_last_growth >= 5 and self.stage < 10:\n",
        "          print(\"Your plant grew a bit! Its preferances may have changed.\")\n",
        "          self.stage += 1\n",
        "          self.health += 5\n",
        "          self.day_of_last_growth = self.day\n",
        "          self.perfect_light = numpy.random.choice([1,2,3,4,5,6,7,8,9,10])\n",
        "          self.perfect_water = numpy.random.choice([1,2,3,4,5,6,7,8,9,10])\n",
        "          if self.stage == 10:\n",
        "            print(\"Congrats! Your plant is full grown.\")\n",
        "      self.water += -1*self.light\n",
        "      if self.water < 0:\n",
        "        self.water = 0\n",
        "      if self.health <= 0:\n",
        "        print(\"Your plant died! You decide to plant a new seed. Treat this one better!\")\n",
        "        self.planted = 0\n",
        "        self.day_of_last_growth = 0\n",
        "        self.day = 0\n",
        "        self.water = 0\n",
        "        self.light = 0\n",
        "        self.health = 10\n",
        "        self.stage = 0\n",
        "        self.perfect_light = numpy.random.choice([1,2,3,4,5,6,7,8,9,10])\n",
        "        self.perfect_water = numpy.random.choice([1,2,3,4,5,6,7,8,9,10])\n",
        "\n",
        "def dynamic_find_roots(a,b,c):\n",
        "  if b**2-4*a*c == 0:\n",
        "    return -b/(2*a)\n",
        "  elif b**2 - 4*a*c <0:\n",
        "    return (-b+1j*(4*a*c-b**2)**0.5)/(2*a),(-b-1j*(4*a*c-b**2)**0.5)/(2*a)\n",
        "  elif b**2 - 4*a*c >0:\n",
        "    return (-b+(b**2-4*a*c)**0.5)/(2*a),(-b-(b**2-4*a*c)**0.5)/(2*a)\n",
        "print(\"Libraries imported successfully!\")"
      ]
    },
    {
      "cell_type": "markdown",
      "metadata": {
        "id": "jhvwNalR6bYe"
      },
      "source": [
        "<a name=\"p1\"></a>\n",
        "\n",
        "---\n",
        "## **Part 1: Objects, Methods, and Attributes**\n",
        "---\n",
        "Python and any libraries we install give us tons of objects to work with. In this part, we will practice interacting with objects using methods and attributes."
      ]
    },
    {
      "cell_type": "markdown",
      "metadata": {
        "id": "Fn-MmuBT6dzZ"
      },
      "source": [
        "#### **Problem #1.1**\n",
        "\n",
        "Create a `baby` object and set its age to 1. Then print out its \"age\" attribute."
      ]
    },
    {
      "cell_type": "code",
      "execution_count": 64,
      "metadata": {
        "id": "iszC3Nln2wkT"
      },
      "outputs": [
        {
          "data": {
            "text/plain": [
              "1"
            ]
          },
          "execution_count": 64,
          "metadata": {},
          "output_type": "execute_result"
        }
      ],
      "source": [
        "baby = baby() # COMPLETE THIS CODE\n",
        "baby.age = 1\n",
        "baby.age"
      ]
    },
    {
      "cell_type": "markdown",
      "metadata": {
        "id": "B51rkpDd9KdP"
      },
      "source": [
        "#### **Problem #1.2**\n",
        "\n",
        "Print out the baby's `hunger` and `mood` attributes."
      ]
    },
    {
      "cell_type": "code",
      "execution_count": 65,
      "metadata": {
        "id": "ffXS2vaE7b7S"
      },
      "outputs": [
        {
          "name": "stdout",
          "output_type": "stream",
          "text": [
            "Mood:  hungry || Mood:  crying\n"
          ]
        }
      ],
      "source": [
        "print(\"Mood: \", baby.hunger, \"|| Mood: \", baby.mood) # COMPLETE THIS CODE\n"
      ]
    },
    {
      "cell_type": "markdown",
      "metadata": {
        "id": "nCy0pue79_rA"
      },
      "source": [
        "#### **Problem #1.3**\n",
        "\n",
        "Now, use the baby's `feed` and `play` methods. Then print out its `hunger` and `mood` attributes once again."
      ]
    },
    {
      "cell_type": "code",
      "execution_count": 66,
      "metadata": {
        "id": "ewY0mWW391qb"
      },
      "outputs": [
        {
          "name": "stdout",
          "output_type": "stream",
          "text": [
            "Mood:  full || Mood:  happy\n"
          ]
        }
      ],
      "source": [
        "baby.feed() # COMPLETE THIS CODE\n",
        "baby.play()\n",
        "print(\"Mood: \", baby.hunger, \"|| Mood: \", baby.mood)"
      ]
    },
    {
      "cell_type": "markdown",
      "metadata": {
        "id": "9YYUG7us_YLw"
      },
      "source": [
        "#### **Problem #1.4**\n",
        "\n",
        "Create a `plant` object using its corresponding function, and use the `check_health` method to measure the plant's health."
      ]
    },
    {
      "cell_type": "code",
      "execution_count": 67,
      "metadata": {
        "id": "R52FGssZAAEA"
      },
      "outputs": [
        {
          "name": "stdout",
          "output_type": "stream",
          "text": [
            "Your plant's health is a 10/10.\n",
            "If you had to rate the wetness of the soil, it would be a 0/10.\n",
            "Your light is turned up to 0.\n"
          ]
        }
      ],
      "source": [
        "plant = plant() # COMPLETE CODE\n",
        "plant.check_health()"
      ]
    },
    {
      "cell_type": "markdown",
      "metadata": {
        "id": "yuW5cDWgAj03"
      },
      "source": [
        "#### **Problem #1.5**\n",
        "\n",
        "Using the necessary methods and attributes, get your plant to grow a bit.\n",
        "\n",
        "**Hint:** Read through the `plant` class to see if there is a way to give it the perfect amount of water and light without guessing and checking."
      ]
    },
    {
      "cell_type": "code",
      "execution_count": 68,
      "metadata": {
        "id": "Hm_lqzKjAPt-"
      },
      "outputs": [
        {
          "name": "stdout",
          "output_type": "stream",
          "text": [
            "You set the light to level 1\n",
            "You watered your plant.\n",
            "Day 1\n",
            "Your plant looks happy with the light it has.\n",
            "Your plant looks happy with the water it had.\n",
            "Day 2\n",
            "Your plant looks happy with the light it has.\n",
            "Your plant needs more water\n",
            "Day 3\n",
            "Your plant looks happy with the light it has.\n",
            "Your plant needs more water\n",
            "Day 4\n",
            "Your plant looks happy with the light it has.\n",
            "Your plant needs more water\n",
            "Day 5\n",
            "Your plant looks happy with the light it has.\n",
            "Your plant needs more water\n",
            "Day 6\n",
            "Your plant looks happy with the light it has.\n",
            "Your plant needs more water\n",
            "Day 7\n",
            "Your plant looks happy with the light it has.\n",
            "Your plant needs more water\n",
            "Day 8\n",
            "Your plant looks happy with the light it has.\n",
            "Your plant needs more water\n",
            "Day 9\n",
            "Your plant looks happy with the light it has.\n",
            "Your plant needs more water\n",
            "Day 10\n",
            "Your plant looks happy with the light it has.\n",
            "Your plant needs more water\n",
            "Your plant's health is a 5.6000000000000005/10.\n",
            "If you had to rate the wetness of the soil, it would be a 0/10.\n",
            "Your light is turned up to 1.\n"
          ]
        }
      ],
      "source": [
        "# COMPLETE THIS CODE\n",
        "plant.set_light(plant.perfect_light)\n",
        "plant.water_plant(plant.perfect_water)\n",
        "plant.wait(10)\n",
        "plant.check_health()"
      ]
    },
    {
      "cell_type": "markdown",
      "metadata": {
        "id": "uAEv8DupGKp7"
      },
      "source": [
        "<a name=\"p2\"></a>\n",
        "\n",
        "---\n",
        "## **Part 2: Debugging**\n",
        "---\n",
        "\n",
        "In this part, we will explore how to identify and correct errors in Python."
      ]
    },
    {
      "cell_type": "markdown",
      "metadata": {
        "id": "DJYgxQ2hGN9U"
      },
      "source": [
        "#### **Problem #2.1**\n",
        "\n",
        "Debug the code shown below."
      ]
    },
    {
      "cell_type": "code",
      "execution_count": 69,
      "metadata": {
        "colab": {
          "base_uri": "https://localhost:8080/",
          "height": 211
        },
        "id": "RA-PHpSHGMOR",
        "outputId": "944337dc-2fc9-4f54-fe1e-7d424cb13a75"
      },
      "outputs": [
        {
          "name": "stdout",
          "output_type": "stream",
          "text": [
            "51\n"
          ]
        }
      ],
      "source": [
        "x = \"17\"\n",
        "y = \"3\"\n",
        "print(int(x)*int(y))"
      ]
    },
    {
      "cell_type": "markdown",
      "metadata": {
        "id": "qBRQlNdAIoMM"
      },
      "source": [
        "#### **Problem #2.2**\n",
        "\n",
        "Debug the code shown below."
      ]
    },
    {
      "cell_type": "code",
      "execution_count": 70,
      "metadata": {
        "colab": {
          "base_uri": "https://localhost:8080/",
          "height": 193
        },
        "id": "Zw0EixWuIhyv",
        "outputId": "efe20d47-8d69-43bd-c8f8-ded74ec0e26a"
      },
      "outputs": [
        {
          "name": "stdout",
          "output_type": "stream",
          "text": [
            "1\n"
          ]
        }
      ],
      "source": [
        "my_list = [3, 1, 4, 1]\n",
        "print(my_list[3])"
      ]
    },
    {
      "cell_type": "markdown",
      "metadata": {
        "id": "LnemW_PyJSHN"
      },
      "source": [
        "#### **Problem #2.3**\n",
        "\n",
        "Debug the code shown below."
      ]
    },
    {
      "cell_type": "code",
      "execution_count": null,
      "metadata": {
        "colab": {
          "base_uri": "https://localhost:8080/",
          "height": 245
        },
        "id": "f7o4YPXsKMmj",
        "outputId": "fdbebf55-8ebd-48e2-8a1e-e6b5c9901410"
      },
      "outputs": [],
      "source": [
        "oak = plant()\n",
        "oak.check_health()\n",
        "oak.light(6)\n",
        "oak.water(8)\n",
        "oak.wait()\n",
        "oak.check_health()"
      ]
    },
    {
      "cell_type": "markdown",
      "metadata": {
        "id": "pLqchySgLB5E"
      },
      "source": [
        "#### **Problem #2.4**\n",
        "\n",
        "Debug the code shown below."
      ]
    },
    {
      "cell_type": "code",
      "execution_count": 72,
      "metadata": {
        "colab": {
          "base_uri": "https://localhost:8080/",
          "height": 245
        },
        "id": "gafSvfZTJ8qO",
        "outputId": "5ce24256-f2c1-4355-d2bf-a684e2886f5b"
      },
      "outputs": [
        {
          "name": "stdout",
          "output_type": "stream",
          "text": [
            "-3.0\n",
            "-5.0\n"
          ]
        }
      ],
      "source": [
        "#f(x) = ax^2 + bx + c\n",
        "a = 1\n",
        "b = 8\n",
        "c = 15\n",
        "x1 = (-b + (b**2 - 4*a*c)**0.5)/(2*a)\n",
        "x2 = (-b - (b**2 - 4*a*c)**0.5)/(2*a)\n",
        "print(x1)\n",
        "print(x2)"
      ]
    },
    {
      "cell_type": "markdown",
      "metadata": {
        "id": "uesbpA-INjWh"
      },
      "source": [
        "#### **Problem #2.5**\n",
        "\n",
        "Debug the code shown below."
      ]
    },
    {
      "cell_type": "code",
      "execution_count": null,
      "metadata": {
        "colab": {
          "base_uri": "https://localhost:8080/",
          "height": 211
        },
        "id": "J3OW1W6aMQu0",
        "outputId": "86489273-a365-4353-ed0c-de8ba77928ea"
      },
      "outputs": [],
      "source": [
        "alisha = baby()\n",
        "alisha.age = 1\n",
        "print(alisha.age())"
      ]
    },
    {
      "cell_type": "markdown",
      "metadata": {
        "id": "hJugshHqalUm"
      },
      "source": [
        "<a name=\"p3\"></a>\n",
        "\n",
        "---\n",
        "## **Part 3: Coding Challenges [OPTIONAL]**\n",
        "---\n",
        "\n",
        "This part contains mini-projects that you can use to practice your Python skills! Remember, you can search for documentation that may help you."
      ]
    },
    {
      "cell_type": "markdown",
      "metadata": {
        "id": "7MCBBIuFaqG0"
      },
      "source": [
        "#### **Problem #3.1**\n",
        "\n",
        "Research the `numpy` module to find a function that allows you simulate rolling a weighted die that is twice as likely to land on 6 than a typical die. Then, simulate this die being rolled six times."
      ]
    },
    {
      "cell_type": "code",
      "execution_count": 80,
      "metadata": {
        "id": "f6-MmfxWRfhJ"
      },
      "outputs": [
        {
          "name": "stdout",
          "output_type": "stream",
          "text": [
            "Simulation: [2 1 3 4 6 6]\n"
          ]
        }
      ],
      "source": [
        "# COMPLETE THIS CODE\n",
        "import numpy as np\n",
        "\n",
        "die_outcomes = [1, 2, 3, 4, 5, 6]\n",
        "\n",
        "probabilities = [1/7, 1/7, 1/7, 1/7, 1/7, 2/7]\n",
        "\n",
        "# Simulate rolling the weighted die six times\n",
        "simulated_rolls = np.random.choice(die_outcomes, size=6, p=probabilities)\n",
        "\n",
        "# Print the results of the six rolls\n",
        "print(\"Simulation:\", simulated_rolls)\n"
      ]
    },
    {
      "cell_type": "markdown",
      "metadata": {
        "id": "MAbKoxKzey5X"
      },
      "source": [
        "#### **Problem #3.2**\n",
        "\n",
        "Use the `append` method to add \"six\" to the list below. Then, write code the prints out the reversed list."
      ]
    },
    {
      "cell_type": "code",
      "execution_count": 81,
      "metadata": {
        "id": "492gscAegBnq"
      },
      "outputs": [
        {
          "name": "stdout",
          "output_type": "stream",
          "text": [
            "['six', 'five', 'four', 'three', 'two', 'one']\n"
          ]
        }
      ],
      "source": [
        "my_list = [\"one\",\"two\",\"three\", \"four\",\"five\"]\n",
        "my_list.append(\"six\") # COMPLETE THIS CODE\n",
        "\n",
        "reversed_list = list(reversed(my_list))\n",
        "print(reversed_list)"
      ]
    },
    {
      "cell_type": "markdown",
      "metadata": {
        "id": "dbLvQlEJgno8"
      },
      "source": [
        "#### **Problem #3.3**\n",
        "\n",
        "Research the `matplotlib` module to find a function that creates a line graph of the data provided below. For an extra challenge, label the x-axis \"Year\" and the y-axis \"Number of Transistors per Microprocessor in Millions\". This is a visual representation of Moore's Law!"
      ]
    },
    {
      "cell_type": "code",
      "execution_count": 82,
      "metadata": {
        "id": "UuekpDjKlkpU"
      },
      "outputs": [
        {
          "data": {
            "image/png": "[encoded data removed]",
            "text/plain": [
              "<Figure size 640x480 with 1 Axes>"
            ]
          },
          "metadata": {},
          "output_type": "display_data"
        }
      ],
      "source": [
        "import matplotlib.pyplot as plt\n",
        "\n",
        "years = [1972, 1982, 1992, 2002, 2012]\n",
        "num_transistors = [0.004, 0.14, 3.11, 220.67, 2600]\n",
        "\n",
        "plt.plot(years, num_transistors, marker='o', linestyle='-', color='b', label='Transistors vs Microprocessor')\n",
        "\n",
        "plt.xlabel(\"Year\")\n",
        "plt.ylabel(\"Number of Transistors\")\n",
        "\n",
        "# Add a title to the graph\n",
        "plt.title(\"Moore's Law: \")\n",
        "\n",
        "# Show the legend\n",
        "plt.legend()\n",
        "\n",
        "# Show the graph\n",
        "plt.grid(True)\n",
        "plt.show()\n"
      ]
    },
    {
      "cell_type": "markdown",
      "metadata": {
        "id": "88JBud6KoMjn"
      },
      "source": [
        "# End of notebook\n",
        "---\n",
        "© 2023 The Coding School, All rights reserved"
      ]
    }
  ],
  "metadata": {
    "colab": {
      "include_colab_link": true,
      "provenance": []
    },
    "kernelspec": {
      "display_name": "Python 3",
      "name": "python3"
    },
    "language_info": {
      "codemirror_mode": {
        "name": "ipython",
        "version": 3
      },
      "file_extension": ".py",
      "mimetype": "text/x-python",
      "name": "python",
      "nbconvert_exporter": "python",
      "pygments_lexer": "ipython3",
      "version": "3.11.5"
    }
  },
  "nbformat": 4,
  "nbformat_minor": 0
}
